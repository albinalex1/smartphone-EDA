{
 "cells": [
  {
   "cell_type": "markdown",
   "id": "5d4b424b",
   "metadata": {
    "papermill": {
     "duration": 0.013126,
     "end_time": "2023-08-11T11:41:04.154047",
     "exception": false,
     "start_time": "2023-08-11T11:41:04.140921",
     "status": "completed"
    },
    "tags": []
   },
   "source": [
    "<a id ='9'> </a>\n",
    "<div class=\"alert alert-block alert-danger\"><h2 style=\"text-align:center;color:black\"> 📱 Smartphone Price Analysis + EDA 📊 </h2> </div> "
   ]
  },
  {
   "cell_type": "markdown",
   "id": "9d8557fd",
   "metadata": {
    "papermill": {
     "duration": 0.013173,
     "end_time": "2023-08-11T11:41:04.181201",
     "exception": false,
     "start_time": "2023-08-11T11:41:04.168028",
     "status": "completed"
    },
    "tags": []
   },
   "source": [
    "<div class=\"alert alert-block alert-warning\"><h2 style=\"text-align:Center;color:black\">Table of Content </h2> </div>\n",
    "\n",
    "1. [Import Lib](#1)\n",
    "1. [Load Data](#2)\n",
    "1. [Basic Analysis](#3)\n",
    "1. [Missing Values](#4)\n",
    "1. [Exploratory Data Analysis](#5)\n",
    "    1. [Brand vs Number of models](#6)\n",
    "    1. [Brand vs Avg. Price](#7)\n",
    "    1. [Brand vs Avg. Rating](#8)\n",
    "    1. [5G or Not](#9)\n",
    "    1. [Processor vs Avg. Price](#10)\n",
    "    1. [Battery vs Avg. Price](#11)\n",
    "    1. [Battery vs Brand](#12)\n",
    "    1. [Fast Charging Available](#13)\n",
    "    1. [Number of Rear cameras vs Avg. Price](#14)\n",
    "    1. [Rear camera Resolution vs Avg. Price](#15)\n",
    "    1. [Operating System vs Brand](#16)"
   ]
  },
  {
   "cell_type": "markdown",
   "id": "e33fc638",
   "metadata": {
    "papermill": {
     "duration": 0.010253,
     "end_time": "2023-08-11T11:41:04.206985",
     "exception": false,
     "start_time": "2023-08-11T11:41:04.196732",
     "status": "completed"
    },
    "tags": []
   },
   "source": [
    "<a id ='1'> </a>\n",
    "<div class=\"alert alert-block alert-info\"><h2 style=\"text-align:center;color:black\"> Import Lib </h2> </div> "
   ]
  },
  {
   "cell_type": "code",
   "execution_count": 1,
   "id": "7af81c44",
   "metadata": {
    "_cell_guid": "b1076dfc-b9ad-4769-8c92-a6c4dae69d19",
    "_uuid": "8f2839f25d086af736a60e9eeb907d3b93b6e0e5",
    "execution": {
     "iopub.execute_input": "2023-08-11T11:41:04.232827Z",
     "iopub.status.busy": "2023-08-11T11:41:04.231523Z",
     "iopub.status.idle": "2023-08-11T11:41:05.769611Z",
     "shell.execute_reply": "2023-08-11T11:41:05.768672Z"
    },
    "papermill": {
     "duration": 1.554611,
     "end_time": "2023-08-11T11:41:05.772170",
     "exception": false,
     "start_time": "2023-08-11T11:41:04.217559",
     "status": "completed"
    },
    "tags": []
   },
   "outputs": [
    {
     "ename": "ModuleNotFoundError",
     "evalue": "No module named 'missingno'",
     "output_type": "error",
     "traceback": [
      "\u001b[1;31m---------------------------------------------------------------------------\u001b[0m",
      "\u001b[1;31mModuleNotFoundError\u001b[0m                       Traceback (most recent call last)",
      "Cell \u001b[1;32mIn[1], line 9\u001b[0m\n\u001b[0;32m      7\u001b[0m sns\u001b[38;5;241m.\u001b[39mset_style(\u001b[38;5;124m'\u001b[39m\u001b[38;5;124mdarkgrid\u001b[39m\u001b[38;5;124m'\u001b[39m)\n\u001b[0;32m      8\u001b[0m \u001b[38;5;28;01mimport\u001b[39;00m \u001b[38;5;21;01mmatplotlib\u001b[39;00m\u001b[38;5;21;01m.\u001b[39;00m\u001b[38;5;21;01mpyplot\u001b[39;00m \u001b[38;5;28;01mas\u001b[39;00m \u001b[38;5;21;01mplt\u001b[39;00m\n\u001b[1;32m----> 9\u001b[0m \u001b[38;5;28;01mfrom\u001b[39;00m \u001b[38;5;21;01mmissingno\u001b[39;00m \u001b[38;5;28;01mimport\u001b[39;00m missingno \u001b[38;5;28;01mas\u001b[39;00m mno\n\u001b[0;32m     11\u001b[0m \u001b[38;5;66;03m# Warnings\u001b[39;00m\n\u001b[0;32m     12\u001b[0m \u001b[38;5;28;01mimport\u001b[39;00m \u001b[38;5;21;01mwarnings\u001b[39;00m\n",
      "\u001b[1;31mModuleNotFoundError\u001b[0m: No module named 'missingno'"
     ]
    }
   ],
   "source": [
    "# basic\n",
    "import numpy as np\n",
    "import pandas as pd\n",
    "\n",
    "# Visualization\n",
    "import seaborn as sns\n",
    "sns.set_style('darkgrid')\n",
    "import matplotlib.pyplot as plt\n",
    "from missingno import missingno as mno\n",
    "\n",
    "# Warnings\n",
    "import warnings\n",
    "warnings.filterwarnings('ignore')"
   ]
  },
  {
   "cell_type": "markdown",
   "id": "f47248f7",
   "metadata": {
    "papermill": {
     "duration": 0.010159,
     "end_time": "2023-08-11T11:41:05.792933",
     "exception": false,
     "start_time": "2023-08-11T11:41:05.782774",
     "status": "completed"
    },
    "tags": []
   },
   "source": [
    "<a id ='2'> </a>\n",
    "<div class=\"alert alert-block alert-info\"><h2 style=\"text-align:center;color:black\"> Import Data </h2> </div> "
   ]
  },
  {
   "cell_type": "code",
   "execution_count": null,
   "id": "5eed8f28",
   "metadata": {
    "execution": {
     "iopub.execute_input": "2023-08-11T11:41:05.815592Z",
     "iopub.status.busy": "2023-08-11T11:41:05.815184Z",
     "iopub.status.idle": "2023-08-11T11:41:05.843996Z",
     "shell.execute_reply": "2023-08-11T11:41:05.842864Z"
    },
    "papermill": {
     "duration": 0.043469,
     "end_time": "2023-08-11T11:41:05.846742",
     "exception": false,
     "start_time": "2023-08-11T11:41:05.803273",
     "status": "completed"
    },
    "tags": []
   },
   "outputs": [],
   "source": [
    "# import data\n",
    "data = pd.read_csv('/kaggle/input/real-world-smartphones-dataset/smartphones.csv')"
   ]
  },
  {
   "cell_type": "markdown",
   "id": "2db84f35",
   "metadata": {
    "papermill": {
     "duration": 0.010114,
     "end_time": "2023-08-11T11:41:05.867420",
     "exception": false,
     "start_time": "2023-08-11T11:41:05.857306",
     "status": "completed"
    },
    "tags": []
   },
   "source": [
    "<a id ='3'> </a>\n",
    "<div class=\"alert alert-block alert-info\"><h2 style=\"text-align:center;color:black\"> Basic Analysis </h2> </div> "
   ]
  },
  {
   "cell_type": "code",
   "execution_count": null,
   "id": "b2c8a108",
   "metadata": {
    "execution": {
     "iopub.execute_input": "2023-08-11T11:41:05.890517Z",
     "iopub.status.busy": "2023-08-11T11:41:05.889505Z",
     "iopub.status.idle": "2023-08-11T11:41:05.895398Z",
     "shell.execute_reply": "2023-08-11T11:41:05.894367Z"
    },
    "papermill": {
     "duration": 0.019785,
     "end_time": "2023-08-11T11:41:05.897690",
     "exception": false,
     "start_time": "2023-08-11T11:41:05.877905",
     "status": "completed"
    },
    "tags": []
   },
   "outputs": [],
   "source": [
    "# shape of the data\n",
    "print(data.shape)"
   ]
  },
  {
   "cell_type": "markdown",
   "id": "156098a9",
   "metadata": {
    "papermill": {
     "duration": 0.010575,
     "end_time": "2023-08-11T11:41:05.919246",
     "exception": false,
     "start_time": "2023-08-11T11:41:05.908671",
     "status": "completed"
    },
    "tags": []
   },
   "source": [
    "The data contains **980 rows** and **22 columns**."
   ]
  },
  {
   "cell_type": "code",
   "execution_count": null,
   "id": "1e976a1c",
   "metadata": {
    "execution": {
     "iopub.execute_input": "2023-08-11T11:41:05.942968Z",
     "iopub.status.busy": "2023-08-11T11:41:05.942132Z",
     "iopub.status.idle": "2023-08-11T11:41:05.982291Z",
     "shell.execute_reply": "2023-08-11T11:41:05.980987Z"
    },
    "papermill": {
     "duration": 0.054466,
     "end_time": "2023-08-11T11:41:05.984582",
     "exception": false,
     "start_time": "2023-08-11T11:41:05.930116",
     "status": "completed"
    },
    "tags": []
   },
   "outputs": [],
   "source": [
    "# display top of the data\n",
    "data.head()"
   ]
  },
  {
   "cell_type": "code",
   "execution_count": null,
   "id": "fed75650",
   "metadata": {
    "execution": {
     "iopub.execute_input": "2023-08-11T11:41:06.008278Z",
     "iopub.status.busy": "2023-08-11T11:41:06.007876Z",
     "iopub.status.idle": "2023-08-11T11:41:06.032966Z",
     "shell.execute_reply": "2023-08-11T11:41:06.031821Z"
    },
    "papermill": {
     "duration": 0.039391,
     "end_time": "2023-08-11T11:41:06.035149",
     "exception": false,
     "start_time": "2023-08-11T11:41:05.995758",
     "status": "completed"
    },
    "tags": []
   },
   "outputs": [],
   "source": [
    "# Information on every column\n",
    "data.info()"
   ]
  },
  {
   "cell_type": "code",
   "execution_count": null,
   "id": "bebdd8da",
   "metadata": {
    "execution": {
     "iopub.execute_input": "2023-08-11T11:41:06.059551Z",
     "iopub.status.busy": "2023-08-11T11:41:06.058812Z",
     "iopub.status.idle": "2023-08-11T11:41:06.120329Z",
     "shell.execute_reply": "2023-08-11T11:41:06.119322Z"
    },
    "papermill": {
     "duration": 0.076314,
     "end_time": "2023-08-11T11:41:06.122695",
     "exception": false,
     "start_time": "2023-08-11T11:41:06.046381",
     "status": "completed"
    },
    "tags": []
   },
   "outputs": [],
   "source": [
    "# Describe every column\n",
    "data.describe()"
   ]
  },
  {
   "cell_type": "markdown",
   "id": "9bd64f29",
   "metadata": {
    "papermill": {
     "duration": 0.011061,
     "end_time": "2023-08-11T11:41:06.145091",
     "exception": false,
     "start_time": "2023-08-11T11:41:06.134030",
     "status": "completed"
    },
    "tags": []
   },
   "source": [
    "<a id ='4'> </a>\n",
    "<div class=\"alert alert-block alert-info\"><h2 style=\"text-align:center;color:black\"> Missing Values </h2> </div> "
   ]
  },
  {
   "cell_type": "code",
   "execution_count": 2,
   "id": "8133a784",
   "metadata": {
    "execution": {
     "iopub.execute_input": "2023-08-11T11:41:06.169763Z",
     "iopub.status.busy": "2023-08-11T11:41:06.169237Z",
     "iopub.status.idle": "2023-08-11T11:41:06.179313Z",
     "shell.execute_reply": "2023-08-11T11:41:06.178539Z"
    },
    "papermill": {
     "duration": 0.02475,
     "end_time": "2023-08-11T11:41:06.181158",
     "exception": false,
     "start_time": "2023-08-11T11:41:06.156408",
     "status": "completed"
    },
    "tags": []
   },
   "outputs": [
    {
     "ename": "NameError",
     "evalue": "name 'data' is not defined",
     "output_type": "error",
     "traceback": [
      "\u001b[1;31m---------------------------------------------------------------------------\u001b[0m",
      "\u001b[1;31mNameError\u001b[0m                                 Traceback (most recent call last)",
      "Cell \u001b[1;32mIn[2], line 2\u001b[0m\n\u001b[0;32m      1\u001b[0m \u001b[38;5;66;03m# sum of missing values in each column\u001b[39;00m\n\u001b[1;32m----> 2\u001b[0m data\u001b[38;5;241m.\u001b[39misna()\u001b[38;5;241m.\u001b[39msum()\n",
      "\u001b[1;31mNameError\u001b[0m: name 'data' is not defined"
     ]
    }
   ],
   "source": [
    "# sum of missing values in each column\n",
    "data.isna().sum()"
   ]
  },
  {
   "cell_type": "code",
   "execution_count": 3,
   "id": "1b938f77",
   "metadata": {
    "execution": {
     "iopub.execute_input": "2023-08-11T11:41:06.208211Z",
     "iopub.status.busy": "2023-08-11T11:41:06.207167Z",
     "iopub.status.idle": "2023-08-11T11:41:09.172030Z",
     "shell.execute_reply": "2023-08-11T11:41:09.170871Z"
    },
    "papermill": {
     "duration": 2.984893,
     "end_time": "2023-08-11T11:41:09.179294",
     "exception": false,
     "start_time": "2023-08-11T11:41:06.194401",
     "status": "completed"
    },
    "tags": []
   },
   "outputs": [
    {
     "ename": "NameError",
     "evalue": "name 'mno' is not defined",
     "output_type": "error",
     "traceback": [
      "\u001b[1;31m---------------------------------------------------------------------------\u001b[0m",
      "\u001b[1;31mNameError\u001b[0m                                 Traceback (most recent call last)",
      "Cell \u001b[1;32mIn[3], line 6\u001b[0m\n\u001b[0;32m      3\u001b[0m plt\u001b[38;5;241m.\u001b[39mfigure(figsize\u001b[38;5;241m=\u001b[39m(\u001b[38;5;241m14\u001b[39m,\u001b[38;5;241m6\u001b[39m),dpi\u001b[38;5;241m=\u001b[39m\u001b[38;5;241m200\u001b[39m)\n\u001b[0;32m      5\u001b[0m \u001b[38;5;66;03m# plot\u001b[39;00m\n\u001b[1;32m----> 6\u001b[0m mno\u001b[38;5;241m.\u001b[39mbar(data)   \u001b[38;5;66;03m# Using missingno \u001b[39;00m\n\u001b[0;32m      8\u001b[0m \u001b[38;5;66;03m# labels\u001b[39;00m\n\u001b[0;32m      9\u001b[0m plt\u001b[38;5;241m.\u001b[39mtitle(\u001b[38;5;124m'\u001b[39m\u001b[38;5;124mNumber of rows in each column\u001b[39m\u001b[38;5;124m'\u001b[39m,fontsize\u001b[38;5;241m=\u001b[39m\u001b[38;5;241m35\u001b[39m)\n",
      "\u001b[1;31mNameError\u001b[0m: name 'mno' is not defined"
     ]
    },
    {
     "data": {
      "text/plain": [
       "<Figure size 2800x1200 with 0 Axes>"
      ]
     },
     "metadata": {},
     "output_type": "display_data"
    }
   ],
   "source": [
    "# plot for Number of rows in each column\n",
    "# figsize\n",
    "plt.figure(figsize=(14,6),dpi=200)\n",
    "\n",
    "# plot\n",
    "mno.bar(data)   # Using missingno \n",
    "\n",
    "# labels\n",
    "plt.title('Number of rows in each column',fontsize=35)\n",
    "plt.tight_layout()\n",
    "plt.show()"
   ]
  },
  {
   "cell_type": "markdown",
   "id": "5fcb6654",
   "metadata": {
    "papermill": {
     "duration": 0.022562,
     "end_time": "2023-08-11T11:41:09.226620",
     "exception": false,
     "start_time": "2023-08-11T11:41:09.204058",
     "status": "completed"
    },
    "tags": []
   },
   "source": [
    "The columns with missing value are **avg_rating, processor_brand, num_cores, processor_speed, battery_capacity, fast_charging, os, primary_camera_front**."
   ]
  },
  {
   "cell_type": "markdown",
   "id": "216d254f",
   "metadata": {
    "papermill": {
     "duration": 0.022186,
     "end_time": "2023-08-11T11:41:09.271500",
     "exception": false,
     "start_time": "2023-08-11T11:41:09.249314",
     "status": "completed"
    },
    "tags": []
   },
   "source": [
    "<a id ='5'> </a>\n",
    "<div class=\"alert alert-block alert-info\"><h2 style=\"text-align:center;color:black\"> Exploratory Data Analysis </h2> </div> "
   ]
  },
  {
   "cell_type": "markdown",
   "id": "9416ace8",
   "metadata": {
    "papermill": {
     "duration": 0.021657,
     "end_time": "2023-08-11T11:41:09.315346",
     "exception": false,
     "start_time": "2023-08-11T11:41:09.293689",
     "status": "completed"
    },
    "tags": []
   },
   "source": [
    "<a id ='6'> </a>\n",
    "<div class=\"alert alert-block alert-warning\"><h3 style=\"text-align:center;color:black\"> Brand vs Number of models </h3> </div> "
   ]
  },
  {
   "cell_type": "code",
   "execution_count": null,
   "id": "79422f2a",
   "metadata": {
    "execution": {
     "iopub.execute_input": "2023-08-11T11:41:09.363336Z",
     "iopub.status.busy": "2023-08-11T11:41:09.360957Z",
     "iopub.status.idle": "2023-08-11T11:41:09.374787Z",
     "shell.execute_reply": "2023-08-11T11:41:09.373534Z"
    },
    "papermill": {
     "duration": 0.039895,
     "end_time": "2023-08-11T11:41:09.377217",
     "exception": false,
     "start_time": "2023-08-11T11:41:09.337322",
     "status": "completed"
    },
    "tags": []
   },
   "outputs": [],
   "source": [
    "# Number of models for each brand \n",
    "\n",
    "brand_count = data.brand_name.value_counts().reset_index()\n",
    "brand_count.head()"
   ]
  },
  {
   "cell_type": "code",
   "execution_count": null,
   "id": "e1171a0f",
   "metadata": {
    "execution": {
     "iopub.execute_input": "2023-08-11T11:41:09.424507Z",
     "iopub.status.busy": "2023-08-11T11:41:09.423392Z",
     "iopub.status.idle": "2023-08-11T11:41:10.373516Z",
     "shell.execute_reply": "2023-08-11T11:41:10.372351Z"
    },
    "papermill": {
     "duration": 0.978934,
     "end_time": "2023-08-11T11:41:10.378580",
     "exception": false,
     "start_time": "2023-08-11T11:41:09.399646",
     "status": "completed"
    },
    "tags": []
   },
   "outputs": [],
   "source": [
    "# plot for number of modles fot top 20 brands\n",
    "# Figsize\n",
    "plt.figure(figsize=(14,5),dpi=200)\n",
    "\n",
    "# Barplot\n",
    "ax = sns.barplot(brand_count.head(20),x='index',y='brand_name',palette='icefire')\n",
    "ax.bar_label(ax.containers[0])\n",
    "\n",
    "# Labels\n",
    "plt.title('Number of models for top 20 Brands',fontsize=20)\n",
    "plt.xlabel('Brand Name',fontsize=13)\n",
    "plt.ylabel('Number of Models',fontsize=13)\n",
    "plt.xticks(rotation=90)\n",
    "plt.tight_layout()\n",
    "plt.show()"
   ]
  },
  {
   "cell_type": "markdown",
   "id": "f89336bf",
   "metadata": {
    "papermill": {
     "duration": 0.025753,
     "end_time": "2023-08-11T11:41:10.437254",
     "exception": false,
     "start_time": "2023-08-11T11:41:10.411501",
     "status": "completed"
    },
    "tags": []
   },
   "source": [
    "<a id ='7'> </a>\n",
    "<div class=\"alert alert-block alert-warning\"><h3 style=\"text-align:center;color:black\"> Brand vs Avg. Price </h3> </div> "
   ]
  },
  {
   "cell_type": "code",
   "execution_count": null,
   "id": "b0307110",
   "metadata": {
    "execution": {
     "iopub.execute_input": "2023-08-11T11:41:10.496934Z",
     "iopub.status.busy": "2023-08-11T11:41:10.496429Z",
     "iopub.status.idle": "2023-08-11T11:41:10.514531Z",
     "shell.execute_reply": "2023-08-11T11:41:10.513529Z"
    },
    "papermill": {
     "duration": 0.053449,
     "end_time": "2023-08-11T11:41:10.516799",
     "exception": false,
     "start_time": "2023-08-11T11:41:10.463350",
     "status": "completed"
    },
    "tags": []
   },
   "outputs": [],
   "source": [
    "# average price for each brand \n",
    "\n",
    "avg_price = data.groupby('brand_name')['price'].mean().reset_index()\n",
    "avg_price = avg_price.sort_values(by='price',ascending=False)\n",
    "avg_price.head()"
   ]
  },
  {
   "cell_type": "code",
   "execution_count": null,
   "id": "821087f7",
   "metadata": {
    "execution": {
     "iopub.execute_input": "2023-08-11T11:41:10.571810Z",
     "iopub.status.busy": "2023-08-11T11:41:10.570886Z",
     "iopub.status.idle": "2023-08-11T11:41:11.668200Z",
     "shell.execute_reply": "2023-08-11T11:41:11.666808Z"
    },
    "papermill": {
     "duration": 1.128434,
     "end_time": "2023-08-11T11:41:11.671397",
     "exception": false,
     "start_time": "2023-08-11T11:41:10.542963",
     "status": "completed"
    },
    "tags": []
   },
   "outputs": [],
   "source": [
    "# plot for top 10 most expensive brands\n",
    "# figsize\n",
    "plt.figure(figsize=(14,6),dpi=300)\n",
    "\n",
    "# Plot\n",
    "ax = sns.barplot(data=avg_price.head(10),x='brand_name',y='price',palette='icefire',width=0.6)\n",
    "ax.bar_label(ax.containers[0])\n",
    "\n",
    "# Labels\n",
    "plt.xlabel('Brand',fontsize=15)\n",
    "plt.ylabel('Average Price',fontsize=15)\n",
    "plt.title('Top 10 Most Expensive Brands',fontsize=25)\n",
    "plt.tight_layout()\n",
    "plt.show()"
   ]
  },
  {
   "cell_type": "markdown",
   "id": "19134e5e",
   "metadata": {
    "papermill": {
     "duration": 0.028996,
     "end_time": "2023-08-11T11:41:11.729911",
     "exception": false,
     "start_time": "2023-08-11T11:41:11.700915",
     "status": "completed"
    },
    "tags": []
   },
   "source": [
    "<a id ='8'> </a>\n",
    "<div class=\"alert alert-block alert-warning\"><h3 style=\"text-align:center;color:black\"> Brand vs Avg. Rating </h3> </div> "
   ]
  },
  {
   "cell_type": "code",
   "execution_count": null,
   "id": "3d880df4",
   "metadata": {
    "execution": {
     "iopub.execute_input": "2023-08-11T11:41:11.790616Z",
     "iopub.status.busy": "2023-08-11T11:41:11.790200Z",
     "iopub.status.idle": "2023-08-11T11:41:11.802828Z",
     "shell.execute_reply": "2023-08-11T11:41:11.801858Z"
    },
    "papermill": {
     "duration": 0.045232,
     "end_time": "2023-08-11T11:41:11.804789",
     "exception": false,
     "start_time": "2023-08-11T11:41:11.759557",
     "status": "completed"
    },
    "tags": []
   },
   "outputs": [],
   "source": [
    "# average rating for each brand \n",
    "\n",
    "avg_rating = data.groupby('brand_name')['avg_rating'].mean().reset_index()\n",
    "avg_rating = avg_rating.sort_values(by='avg_rating',ascending=False)\n",
    "avg_rating.head()"
   ]
  },
  {
   "cell_type": "code",
   "execution_count": null,
   "id": "fcfd3b22",
   "metadata": {
    "execution": {
     "iopub.execute_input": "2023-08-11T11:41:11.866249Z",
     "iopub.status.busy": "2023-08-11T11:41:11.865645Z",
     "iopub.status.idle": "2023-08-11T11:41:13.925690Z",
     "shell.execute_reply": "2023-08-11T11:41:13.924520Z"
    },
    "papermill": {
     "duration": 2.096505,
     "end_time": "2023-08-11T11:41:13.930749",
     "exception": false,
     "start_time": "2023-08-11T11:41:11.834244",
     "status": "completed"
    },
    "tags": []
   },
   "outputs": [],
   "source": [
    "# Barplot for average rating for each brand\n",
    "# figsize\n",
    "plt.figure(figsize=(14,6),dpi=400)\n",
    "\n",
    "# Plot\n",
    "sns.barplot(data=avg_rating.head(44),x='brand_name',y='avg_rating',width=0.4,palette='icefire')\n",
    "\n",
    "# Labels\n",
    "plt.xlabel('Brand',fontsize=15)\n",
    "plt.ylabel('Average Rating',fontsize=15)\n",
    "plt.title('Average Rating of the Brands',fontsize=20)\n",
    "plt.xticks(rotation=90)\n",
    "plt.tight_layout()\n",
    "plt.show()"
   ]
  },
  {
   "cell_type": "code",
   "execution_count": null,
   "id": "6c7ecb25",
   "metadata": {
    "execution": {
     "iopub.execute_input": "2023-08-11T11:41:14.006690Z",
     "iopub.status.busy": "2023-08-11T11:41:14.006020Z",
     "iopub.status.idle": "2023-08-11T11:41:15.638207Z",
     "shell.execute_reply": "2023-08-11T11:41:15.637209Z"
    },
    "papermill": {
     "duration": 1.675106,
     "end_time": "2023-08-11T11:41:15.643321",
     "exception": false,
     "start_time": "2023-08-11T11:41:13.968215",
     "status": "completed"
    },
    "tags": []
   },
   "outputs": [],
   "source": [
    "# Lineplot for top 10 rated brands\n",
    "# figsize\n",
    "plt.figure(figsize=(14,6),dpi=400)\n",
    "\n",
    "# plot\n",
    "sns.lineplot(data=avg_rating.head(10),x='brand_name',y='avg_rating',marker='D',color='red',markersize=10, markerfacecolor='blue')\n",
    "\n",
    "#Labels\n",
    "plt.xlabel('Brand',fontsize=15)\n",
    "plt.ylabel('Average Rating',fontsize=15)\n",
    "plt.title('Top 10 Rated Brands',fontsize=25)\n",
    "plt.tight_layout()\n",
    "plt.show()"
   ]
  },
  {
   "cell_type": "markdown",
   "id": "821abd12",
   "metadata": {
    "papermill": {
     "duration": 0.041762,
     "end_time": "2023-08-11T11:41:15.726829",
     "exception": false,
     "start_time": "2023-08-11T11:41:15.685067",
     "status": "completed"
    },
    "tags": []
   },
   "source": [
    "<a id='9'> </a>\n",
    "<div class=\"alert alert-block alert-warning\"><h3 style=\"text-align:center;color:black\"> 5G or Not </h3> </div> "
   ]
  },
  {
   "cell_type": "code",
   "execution_count": null,
   "id": "63574760",
   "metadata": {
    "execution": {
     "iopub.execute_input": "2023-08-11T11:41:15.812375Z",
     "iopub.status.busy": "2023-08-11T11:41:15.811965Z",
     "iopub.status.idle": "2023-08-11T11:41:16.005067Z",
     "shell.execute_reply": "2023-08-11T11:41:16.003892Z"
    },
    "papermill": {
     "duration": 0.238541,
     "end_time": "2023-08-11T11:41:16.007240",
     "exception": false,
     "start_time": "2023-08-11T11:41:15.768699",
     "status": "completed"
    },
    "tags": []
   },
   "outputs": [],
   "source": [
    "# Pie plot for how maany smartphones have 5G\n",
    "# figsize\n",
    "plt.figure(figsize=(14,6),dpi=90)\n",
    "palette_color = sns.color_palette('icefire')\n",
    "\n",
    "# Plot\n",
    "plt.pie(data['5G_or_not'].value_counts(),labels=['5G','NON-5G'],colors=palette_color,shadow=True,explode=[0.2,0],autopct='%.0f%%')\n",
    "\n",
    "# Labels\n",
    "plt.legend(loc=1)\n",
    "plt.suptitle('5G vs. Non-5G Smartphones',fontsize=20)\n",
    "plt.show()"
   ]
  },
  {
   "cell_type": "markdown",
   "id": "715a6c7d",
   "metadata": {
    "papermill": {
     "duration": 0.042992,
     "end_time": "2023-08-11T11:41:16.113338",
     "exception": false,
     "start_time": "2023-08-11T11:41:16.070346",
     "status": "completed"
    },
    "tags": []
   },
   "source": [
    "<a id ='10'> </a>\n",
    "<div class=\"alert alert-block alert-warning\"><h3 style=\"text-align:center;color:black\"> Processor vs Avg. Price </h3> </div> "
   ]
  },
  {
   "cell_type": "code",
   "execution_count": null,
   "id": "a461a8f8",
   "metadata": {
    "execution": {
     "iopub.execute_input": "2023-08-11T11:41:16.201346Z",
     "iopub.status.busy": "2023-08-11T11:41:16.200610Z",
     "iopub.status.idle": "2023-08-11T11:41:16.213606Z",
     "shell.execute_reply": "2023-08-11T11:41:16.212422Z"
    },
    "papermill": {
     "duration": 0.060112,
     "end_time": "2023-08-11T11:41:16.216182",
     "exception": false,
     "start_time": "2023-08-11T11:41:16.156070",
     "status": "completed"
    },
    "tags": []
   },
   "outputs": [],
   "source": [
    "# average price for each processor\n",
    "\n",
    "process_brand_price = data.groupby('processor_brand')['price'].mean().reset_index()\n",
    "process_brand_price = process_brand_price.sort_values(by='price',ascending=True)\n",
    "process_brand_price.head()"
   ]
  },
  {
   "cell_type": "code",
   "execution_count": null,
   "id": "95d45516",
   "metadata": {
    "execution": {
     "iopub.execute_input": "2023-08-11T11:41:16.306080Z",
     "iopub.status.busy": "2023-08-11T11:41:16.305074Z",
     "iopub.status.idle": "2023-08-11T11:41:17.463365Z",
     "shell.execute_reply": "2023-08-11T11:41:17.462204Z"
    },
    "papermill": {
     "duration": 1.205109,
     "end_time": "2023-08-11T11:41:17.465945",
     "exception": false,
     "start_time": "2023-08-11T11:41:16.260836",
     "status": "completed"
    },
    "tags": []
   },
   "outputs": [],
   "source": [
    "# Barplot for brand of the processor and average price of the smartphone\n",
    "#figsize\n",
    "plt.figure(figsize=(15,6),dpi=300)\n",
    "\n",
    "# Plot\n",
    "ax = sns.barplot(data=process_brand_price,x='processor_brand',y='price',width=0.5,color ='black')\n",
    "ax.bar_label(ax.containers[0])\n",
    "\n",
    "# Labels\n",
    "plt.xlabel(\"Brand of the Processer\",fontsize= 12)\n",
    "plt.ylabel('Price',fontsize= 12)\n",
    "plt.title('Brand of the Processor Vs Price of Smartphones',fontsize=20)\n",
    "plt.tight_layout()\n",
    "plt.show()"
   ]
  },
  {
   "cell_type": "markdown",
   "id": "efc68492",
   "metadata": {
    "papermill": {
     "duration": 0.047237,
     "end_time": "2023-08-11T11:41:17.561384",
     "exception": false,
     "start_time": "2023-08-11T11:41:17.514147",
     "status": "completed"
    },
    "tags": []
   },
   "source": [
    "<a id ='11'> </a>\n",
    "<div class=\"alert alert-block alert-warning\"><h3 style=\"text-align:center;color:black\"> Battery vs Avg. Price </h3> </div> "
   ]
  },
  {
   "cell_type": "code",
   "execution_count": null,
   "id": "6d91c216",
   "metadata": {
    "execution": {
     "iopub.execute_input": "2023-08-11T11:41:17.658954Z",
     "iopub.status.busy": "2023-08-11T11:41:17.658589Z",
     "iopub.status.idle": "2023-08-11T11:41:17.671988Z",
     "shell.execute_reply": "2023-08-11T11:41:17.670866Z"
    },
    "papermill": {
     "duration": 0.064396,
     "end_time": "2023-08-11T11:41:17.674112",
     "exception": false,
     "start_time": "2023-08-11T11:41:17.609716",
     "status": "completed"
    },
    "tags": []
   },
   "outputs": [],
   "source": [
    "# grouping by battery capacity to find the average price .\n",
    "\n",
    "bat_cap_price = data.groupby('battery_capacity')['price'].mean().reset_index()\n",
    "bat_cap_price = bat_cap_price.sort_values(by='battery_capacity',ascending=False)\n",
    "bat_cap_price.head()"
   ]
  },
  {
   "cell_type": "code",
   "execution_count": null,
   "id": "974d8ae8",
   "metadata": {
    "execution": {
     "iopub.execute_input": "2023-08-11T11:41:17.771814Z",
     "iopub.status.busy": "2023-08-11T11:41:17.771103Z",
     "iopub.status.idle": "2023-08-11T11:41:18.679809Z",
     "shell.execute_reply": "2023-08-11T11:41:18.678628Z"
    },
    "papermill": {
     "duration": 0.960955,
     "end_time": "2023-08-11T11:41:18.682885",
     "exception": false,
     "start_time": "2023-08-11T11:41:17.721930",
     "status": "completed"
    },
    "tags": []
   },
   "outputs": [],
   "source": [
    "# Lineplot to show the change in price for smartphones as the battery capacity changes.\n",
    "# figsize\n",
    "plt.figure(figsize=(15,5),dpi=200)\n",
    "\n",
    "# Plot\n",
    "sns.lineplot(bat_cap_price.head(15),x='battery_capacity',y='price',marker='D',color='orange',markersize=5, markerfacecolor='blue',linewidth=2)\n",
    "\n",
    "# Labels\n",
    "plt.xlabel(\"Battery Capacity\",fontsize= 14)\n",
    "plt.ylabel('Average Price',fontsize= 14)\n",
    "plt.title('Change in Price wrt Battery Capacity',fontsize=20)\n",
    "plt.tight_layout()\n",
    "plt.show()"
   ]
  },
  {
   "cell_type": "markdown",
   "id": "d3c852ea",
   "metadata": {
    "papermill": {
     "duration": 0.050383,
     "end_time": "2023-08-11T11:41:18.783643",
     "exception": false,
     "start_time": "2023-08-11T11:41:18.733260",
     "status": "completed"
    },
    "tags": []
   },
   "source": [
    "<a id ='12'> </a>\n",
    "<div class=\"alert alert-block alert-warning\"><h3 style=\"text-align:center;color:black\"> Battery vs Brand </h3> </div> "
   ]
  },
  {
   "cell_type": "code",
   "execution_count": null,
   "id": "040be039",
   "metadata": {
    "execution": {
     "iopub.execute_input": "2023-08-11T11:41:18.886140Z",
     "iopub.status.busy": "2023-08-11T11:41:18.885781Z",
     "iopub.status.idle": "2023-08-11T11:41:18.903331Z",
     "shell.execute_reply": "2023-08-11T11:41:18.902250Z"
    },
    "papermill": {
     "duration": 0.071409,
     "end_time": "2023-08-11T11:41:18.905511",
     "exception": false,
     "start_time": "2023-08-11T11:41:18.834102",
     "status": "completed"
    },
    "tags": []
   },
   "outputs": [],
   "source": [
    "# Grouping by brand names to find the maximum battery capacity.\n",
    "\n",
    "bat_cap_brand = data.groupby('brand_name')['battery_capacity'].max().reset_index()\n",
    "bat_cap_brand = bat_cap_brand.sort_values(by='battery_capacity',ascending=False)\n",
    "bat_cap_brand.head()"
   ]
  },
  {
   "cell_type": "code",
   "execution_count": null,
   "id": "fee5edba",
   "metadata": {
    "execution": {
     "iopub.execute_input": "2023-08-11T11:41:19.010236Z",
     "iopub.status.busy": "2023-08-11T11:41:19.009379Z",
     "iopub.status.idle": "2023-08-11T11:41:20.202335Z",
     "shell.execute_reply": "2023-08-11T11:41:20.201468Z"
    },
    "papermill": {
     "duration": 1.247997,
     "end_time": "2023-08-11T11:41:20.204412",
     "exception": false,
     "start_time": "2023-08-11T11:41:18.956415",
     "status": "completed"
    },
    "tags": []
   },
   "outputs": [],
   "source": [
    "# Barplot to show the maximum battery capacity for each brand.\n",
    "# figsize\n",
    "plt.figure(figsize=(15,6))\n",
    "\n",
    "# Plot\n",
    "sns.barplot(bat_cap_brand,x='brand_name',y='battery_capacity',width=0.5,palette='icefire')\n",
    "\n",
    "# Labels\n",
    "plt.xticks(rotation=90)\n",
    "plt.xlabel('Brand Name',fontsize=13)\n",
    "plt.ylabel('Battery Capacity (mAh)',fontsize=13)\n",
    "plt.title('Highest Battery capacity of Brands',fontsize=20)\n",
    "plt.tight_layout()"
   ]
  },
  {
   "cell_type": "markdown",
   "id": "47c545bb",
   "metadata": {
    "papermill": {
     "duration": 0.052972,
     "end_time": "2023-08-11T11:41:20.310776",
     "exception": false,
     "start_time": "2023-08-11T11:41:20.257804",
     "status": "completed"
    },
    "tags": []
   },
   "source": [
    "<a id ='13'> </a>\n",
    "<div class=\"alert alert-block alert-warning\"><h3 style=\"text-align:center;color:black\"> Fast charging Available </h3> </div> "
   ]
  },
  {
   "cell_type": "code",
   "execution_count": null,
   "id": "73836280",
   "metadata": {
    "execution": {
     "iopub.execute_input": "2023-08-11T11:41:20.417342Z",
     "iopub.status.busy": "2023-08-11T11:41:20.416599Z",
     "iopub.status.idle": "2023-08-11T11:41:20.610907Z",
     "shell.execute_reply": "2023-08-11T11:41:20.609468Z"
    },
    "papermill": {
     "duration": 0.250831,
     "end_time": "2023-08-11T11:41:20.613448",
     "exception": false,
     "start_time": "2023-08-11T11:41:20.362617",
     "status": "completed"
    },
    "tags": []
   },
   "outputs": [],
   "source": [
    "# Pie plot to show of fast charging is availabe or not in a smartphone.\n",
    "#figsize\n",
    "plt.figure(figsize=(14,6),dpi = 90)\n",
    "palette_color = sns.color_palette('icefire')\n",
    "\n",
    "# Plot\n",
    "plt.pie(data['fast_charging_available'].value_counts(),labels = ['Fast Charging Available', 'No Fast Charging'],colors=palette_color,shadow=True,explode=[0.2,0],autopct='%.0f%%')\n",
    "\n",
    "# Labels\n",
    "plt.title('Fast Charging Availability in Smartphones',fontsize=20)\n",
    "plt.show()"
   ]
  },
  {
   "cell_type": "markdown",
   "id": "8a04030b",
   "metadata": {
    "papermill": {
     "duration": 0.052562,
     "end_time": "2023-08-11T11:41:20.737336",
     "exception": false,
     "start_time": "2023-08-11T11:41:20.684774",
     "status": "completed"
    },
    "tags": []
   },
   "source": [
    "<a id ='14'> </a>\n",
    "<div class=\"alert alert-block alert-warning\"><h3 style=\"text-align:center;color:black\"> Number of Rear cameras vs Avg. Price </h3> </div> "
   ]
  },
  {
   "cell_type": "code",
   "execution_count": null,
   "id": "8082a341",
   "metadata": {
    "execution": {
     "iopub.execute_input": "2023-08-11T11:41:20.845270Z",
     "iopub.status.busy": "2023-08-11T11:41:20.844824Z",
     "iopub.status.idle": "2023-08-11T11:41:20.856187Z",
     "shell.execute_reply": "2023-08-11T11:41:20.855336Z"
    },
    "papermill": {
     "duration": 0.067987,
     "end_time": "2023-08-11T11:41:20.858213",
     "exception": false,
     "start_time": "2023-08-11T11:41:20.790226",
     "status": "completed"
    },
    "tags": []
   },
   "outputs": [],
   "source": [
    "# Grouping number of rear cameras and price\n",
    "rear_camera_price = data.groupby('num_rear_cameras')['price'].mean().reset_index()\n",
    "rear_camera_price"
   ]
  },
  {
   "cell_type": "code",
   "execution_count": null,
   "id": "3c893df1",
   "metadata": {
    "execution": {
     "iopub.execute_input": "2023-08-11T11:41:20.967129Z",
     "iopub.status.busy": "2023-08-11T11:41:20.966402Z",
     "iopub.status.idle": "2023-08-11T11:41:21.673650Z",
     "shell.execute_reply": "2023-08-11T11:41:21.672552Z"
    },
    "papermill": {
     "duration": 0.76569,
     "end_time": "2023-08-11T11:41:21.677062",
     "exception": false,
     "start_time": "2023-08-11T11:41:20.911372",
     "status": "completed"
    },
    "tags": []
   },
   "outputs": [],
   "source": [
    "# Line plot to show the change in price wrt Number of rear cameras.\n",
    "#figsize\n",
    "plt.figure(figsize=(14,5),dpi=200)\n",
    "\n",
    "# Plot\n",
    "sns.lineplot(rear_camera_price,x='num_rear_cameras',y='price',marker='D',color='brown',markersize=7, markerfacecolor='green',linewidth=2.6)\n",
    "\n",
    "# Labels\n",
    "plt.xlabel(\"Number of Rear Camera\",fontsize= 14)\n",
    "plt.ylabel('Average Price',fontsize= 14)\n",
    "plt.title('Price change wrt Number of rear Cameras',fontsize=20)\n",
    "plt.tight_layout()\n",
    "plt.show()"
   ]
  },
  {
   "cell_type": "markdown",
   "id": "be3d3e47",
   "metadata": {
    "papermill": {
     "duration": 0.055898,
     "end_time": "2023-08-11T11:41:21.789623",
     "exception": false,
     "start_time": "2023-08-11T11:41:21.733725",
     "status": "completed"
    },
    "tags": []
   },
   "source": [
    "<a id ='15'> </a>\n",
    "<div class=\"alert alert-block alert-warning\"><h3 style=\"text-align:center;color:black\"> Rear camera Resolution vs Avg. Price </h3> </div> "
   ]
  },
  {
   "cell_type": "code",
   "execution_count": null,
   "id": "00d71b44",
   "metadata": {
    "execution": {
     "iopub.execute_input": "2023-08-11T11:41:21.903440Z",
     "iopub.status.busy": "2023-08-11T11:41:21.903068Z",
     "iopub.status.idle": "2023-08-11T11:41:21.916071Z",
     "shell.execute_reply": "2023-08-11T11:41:21.915159Z"
    },
    "papermill": {
     "duration": 0.072469,
     "end_time": "2023-08-11T11:41:21.918288",
     "exception": false,
     "start_time": "2023-08-11T11:41:21.845819",
     "status": "completed"
    },
    "tags": []
   },
   "outputs": [],
   "source": [
    "# Grouing the primery rear camera and price.\n",
    "\n",
    "prim_rear_price = data.groupby('primary_camera_rear')['price'].mean().reset_index()\n",
    "prim_rear_price"
   ]
  },
  {
   "cell_type": "code",
   "execution_count": null,
   "id": "edc086d3",
   "metadata": {
    "execution": {
     "iopub.execute_input": "2023-08-11T11:41:22.034364Z",
     "iopub.status.busy": "2023-08-11T11:41:22.033764Z",
     "iopub.status.idle": "2023-08-11T11:41:22.777293Z",
     "shell.execute_reply": "2023-08-11T11:41:22.776544Z"
    },
    "papermill": {
     "duration": 0.804533,
     "end_time": "2023-08-11T11:41:22.780048",
     "exception": false,
     "start_time": "2023-08-11T11:41:21.975515",
     "status": "completed"
    },
    "tags": []
   },
   "outputs": [],
   "source": [
    "# Barplot to show change in price wrt camera resolution.\n",
    "# figsize\n",
    "plt.figure(figsize=(14,5),dpi=200)\n",
    "\n",
    "# plot\n",
    "sns.barplot(prim_rear_price,x='primary_camera_rear',y='price',width=0.4,palette='flare')\n",
    "\n",
    "# Labels\n",
    "plt.xticks(rotation=0)\n",
    "plt.xlabel('Primary Rear Camera Resolution',fontsize=13)\n",
    "plt.ylabel('Average Price',fontsize=13)\n",
    "plt.title('Price vs Primary Rear Camera Resolution',fontsize=20)\n",
    "plt.tight_layout()\n",
    "plt.show()"
   ]
  },
  {
   "cell_type": "markdown",
   "id": "0674fa99",
   "metadata": {
    "papermill": {
     "duration": 0.057926,
     "end_time": "2023-08-11T11:41:22.896779",
     "exception": false,
     "start_time": "2023-08-11T11:41:22.838853",
     "status": "completed"
    },
    "tags": []
   },
   "source": [
    "<a id ='16'> </a>\n",
    "<div class=\"alert alert-block alert-warning\"><h3 style=\"text-align:center;color:black\"> Operating System vs Brand </h3> </div> "
   ]
  },
  {
   "cell_type": "code",
   "execution_count": null,
   "id": "856130a4",
   "metadata": {
    "execution": {
     "iopub.execute_input": "2023-08-11T11:41:23.015733Z",
     "iopub.status.busy": "2023-08-11T11:41:23.015107Z",
     "iopub.status.idle": "2023-08-11T11:41:23.725837Z",
     "shell.execute_reply": "2023-08-11T11:41:23.724405Z"
    },
    "papermill": {
     "duration": 0.773593,
     "end_time": "2023-08-11T11:41:23.728443",
     "exception": false,
     "start_time": "2023-08-11T11:41:22.954850",
     "status": "completed"
    },
    "tags": []
   },
   "outputs": [],
   "source": [
    "# Histplot to show Operatig system used in the brands.\n",
    "# figsize\n",
    "plt.figure(figsize=(14,5),dpi=200)\n",
    "sns.set_style('ticks')\n",
    "# plot\n",
    "sns.histplot(data,x='brand_name',y='os',binwidth=.3)\n",
    "\n",
    "# labels\n",
    "plt.xticks(rotation=90)\n",
    "plt.xlabel('Brand Name',fontsize=13)\n",
    "plt.ylabel('Operating System',fontsize=13)\n",
    "plt.title('Operating system used by the brands',fontsize=20)\n",
    "plt.tight_layout()\n",
    "plt.show()"
   ]
  },
  {
   "cell_type": "markdown",
   "id": "cc429d13",
   "metadata": {
    "papermill": {
     "duration": 0.060909,
     "end_time": "2023-08-11T11:41:23.850837",
     "exception": false,
     "start_time": "2023-08-11T11:41:23.789928",
     "status": "completed"
    },
    "tags": []
   },
   "source": [
    "<h2 style=\"color:red;text-align:Center\">For Smartphone Price Prediction models visit this <a href=\"https://www.kaggle.com/code/sachinpatil1280/smartphone-analysis-eda?kernelSessionId=139061029\"><u>Notebook.</u></a></h2>"
   ]
  },
  {
   "cell_type": "markdown",
   "id": "e22c5a88",
   "metadata": {
    "papermill": {
     "duration": 0.061591,
     "end_time": "2023-08-11T11:41:23.975028",
     "exception": false,
     "start_time": "2023-08-11T11:41:23.913437",
     "status": "completed"
    },
    "tags": []
   },
   "source": [
    "# **Completed Exploratory Data Analysis**\n",
    "### Models for prediction will be uploaded in other Notebook."
   ]
  },
  {
   "attachments": {
    "5ab64bc1-d64b-43b1-93eb-e26412b537da.jpg": {
     "image/jpeg": "[encoded data removed]"
    }
   },
   "cell_type": "markdown",
   "id": "916bba74",
   "metadata": {
    "papermill": {
     "duration": 0.061404,
     "end_time": "2023-08-11T11:41:24.097782",
     "exception": false,
     "start_time": "2023-08-11T11:41:24.036378",
     "status": "completed"
    },
    "tags": []
   },
   "source": [
    "  ![360_F_101974188_JmL9UeRv9Vr5Xgy2mLYDy0p1cCKvixes.jpg](attachment:5ab64bc1-d64b-43b1-93eb-e26412b537da.jpg)"
   ]
  }
 ],
 "metadata": {
  "kernelspec": {
   "display_name": "Python 3 (ipykernel)",
   "language": "python",
   "name": "python3"
  },
  "language_info": {
   "codemirror_mode": {
    "name": "ipython",
    "version": 3
   },
   "file_extension": ".py",
   "mimetype": "text/x-python",
   "name": "python",
   "nbconvert_exporter": "python",
   "pygments_lexer": "ipython3",
   "version": "3.11.4"
  },
  "papermill": {
   "default_parameters": {},
   "duration": 30.643031,
   "end_time": "2023-08-11T11:41:25.185960",
   "environment_variables": {},
   "exception": null,
   "input_path": "__notebook__.ipynb",
   "output_path": "__notebook__.ipynb",
   "parameters": {},
   "start_time": "2023-08-11T11:40:54.542929",
   "version": "2.4.0"
  }
 },
 "nbformat": 4,
 "nbformat_minor": 5
}
